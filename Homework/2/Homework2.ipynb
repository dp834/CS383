{
 "cells": [
  {
   "cell_type": "code",
   "execution_count": 79,
   "metadata": {},
   "outputs": [],
   "source": [
    "import numpy as np\n",
    "import matplotlib\n",
    "from random import seed, shuffle, uniform\n",
    "from math import ceil, sqrt\n",
    "from functools import reduce\n",
    "\n",
    "import os\n",
    "\n",
    "# if running just for output don't halt to show plots\n",
    "# plots will be saved in images folder\n",
    "if __name__ == '__main__':\n",
    "    matplotlib.use('Agg')\n",
    "    no_interact = True\n",
    "import matplotlib.pyplot as plt\n",
    "\n",
    "IMG_FOLDER = \"images/\"\n",
    "if not os.path.exists(IMG_FOLDER):\n",
    "    os.makedirs(IMG_FOLDER)"
   ]
  },
  {
   "cell_type": "code",
   "execution_count": 88,
   "metadata": {},
   "outputs": [],
   "source": [
    "def sigmoid(X, Theta):\n",
    "    \n",
    "    return 1/(1+np.exp(-X@Theta))\n",
    "def cost(guess, actual):\n",
    "    with np.errstate(divide='ignore'):\n",
    "        return 1/(guess.shape[0]) * np.sum(actual.T@np.log(guess) + (1-actual).T@np.log(1-guess))\n",
    "def logistic_regression(X, Y, iterations=10000, learning_rate=.01):\n",
    "    seed(0)\n",
    "    \n",
    "    Theta = np.array([uniform(-1,1) for _ in range(X.shape[1])]).T\n",
    "    \n",
    "    loss = []\n",
    "    for i in range(iterations):\n",
    "        # compute cost\n",
    "        loss.append(-cost(sigmoid(X,Theta),Y))\n",
    "    \n",
    "        # If the abosulte value of the change in the loss\n",
    "        # on the training data is less than 2^-23\n",
    "        # skip the first iteration's check\n",
    "        if(i > 0 and (np.isnan(loss[i]) or np.abs(loss[i] - loss[i-1]) < 2**-23)):\n",
    "            break\n",
    "    \n",
    "        # Compute the gradient (partial l)/(partial theta)\n",
    "        dl_dt = (learning_rate/X.shape[0]) * X.T@(Y - sigmoid(X, Theta))\n",
    "    \n",
    "        Theta += dl_dt\n",
    "        \n",
    "    return {\"theta\": Theta,\n",
    "            \"iterations\": i + 1,\n",
    "            \"loss\": loss}\n",
    "\n",
    "def get_stats(guess, actual, threshold=.5):\n",
    "    TP = 0\n",
    "    FP = 0\n",
    "    TN = 0\n",
    "    FN = 0\n",
    "    for i in range(len(guess)):\n",
    "        if(guess.item(i) > threshold):\n",
    "            if(test_y.item(i) == 1):\n",
    "                TP += 1\n",
    "            else:\n",
    "                FP += 1\n",
    "        else:\n",
    "            if(test_y.item(i) == 0):\n",
    "                TN += 1\n",
    "            else:\n",
    "                FN += 1\n",
    "\n",
    "    precision = TP/(TP+FP)\n",
    "    recall = TP/(TP + FN)\n",
    "    f_measure = (2*precision*recall)/(precision+recall)\n",
    "    accuracy = 1/(TP+FP+TN+FN)*(TP+TN)\n",
    "    return {\"precision\": precision,\n",
    "            \"recall\": recall,\n",
    "            \"f-measure\": f_measure,\n",
    "            \"accuracy\": accuracy}"
   ]
  },
  {
   "cell_type": "markdown",
   "metadata": {},
   "source": [
    "# Problem 2"
   ]
  },
  {
   "cell_type": "code",
   "execution_count": 93,
   "metadata": {},
   "outputs": [
    {
     "name": "stdout",
     "output_type": "stream",
     "text": [
      "------------------\n",
      "Problem 2\n",
      "------------------\n",
      "\n",
      "Iterations: 10000\n",
      "Theta_0: 2.1680680579887635\n",
      "Theta_1: 3.8023159585445083\n",
      "Theta_2: -2.5665004964170794\n",
      "Final loss delta: 2.449116088036607e-06\n",
      "Line: y = 1.4815177179403116x + 0.8447565317113552\n"
     ]
    }
   ],
   "source": [
    "from sklearn.datasets import load_iris\n",
    "print(\"------------------\\nProblem 2\\n------------------\\n\")\n",
    "iris = load_iris()\n",
    "X_nonstandard = np.array(iris.data[:, :2])\n",
    "Y = np.array((iris.target != 0) * 1).T\n",
    "\n",
    "# standardize the data\n",
    "X_mean = np.mean(X_nonstandard, axis=0)\n",
    "X_std  = np.std(X_nonstandard, axis=0)\n",
    "X_nob  = (X_nonstandard - X_mean)/X_std\n",
    "    \n",
    "X = np.insert(X_nob, 0, 1,axis=1)\n",
    "\n",
    "results = logistic_regression(X, Y, iterations=10000, learning_rate=.01)\n",
    "Theta = results[\"theta\"]\n",
    "\n",
    "print(\"Iterations: {}\".format(results[\"iterations\"]))\n",
    "for i in range(Theta.shape[0]):\n",
    "    print(\"Theta_{}: {}\".format(i, Theta.item(i)))\n",
    "print(\"Final loss delta: {}\".format(np.abs(results[\"loss\"][-1] - results[\"loss\"][-2])))\n",
    "print(\"Line: y = {}x + {}\".format(Theta.item(1)/-Theta.item(2), Theta.item(0)/-Theta.item(2)))"
   ]
  },
  {
   "cell_type": "code",
   "execution_count": 94,
   "metadata": {},
   "outputs": [
    {
     "data": {
      "image/png": "[encoded data removed]",
      "text/plain": [
       "<Figure size 432x288 with 1 Axes>"
      ]
     },
     "metadata": {
      "needs_background": "light"
     },
     "output_type": "display_data"
    }
   ],
   "source": [
    "# Graphing section taken from https://stackoverflow.com/questions/28256058/plotting-decision-boundary-of-logistic-regression\n",
    "fig = plt.figure()\n",
    "xx, yy = np.mgrid[-2:3.5:.01, -2:3.5:.01]\n",
    "grid = np.c_[xx.ravel(), yy.ravel()]\n",
    "grid = np.insert(grid,0,1,axis=1)\n",
    "probs = sigmoid(grid,Theta).reshape(xx.shape)\n",
    "\n",
    "\n",
    "f, ax = plt.subplots(figsize=(8, 6))\n",
    "contour = ax.contourf(xx, yy, probs, 25, cmap=\"RdBu\",\n",
    "                      vmin=0, vmax=1)\n",
    "ax_c = f.colorbar(contour)\n",
    "ax_c.set_label(\"$P(y = 1)$\")\n",
    "ax_c.set_ticks([0, .25, .5, .75, 1])\n",
    "\n",
    "ax.scatter(X[:,1], X[:,2], c=Y, s=50,\n",
    "           cmap=\"RdBu\", vmin=-.2, vmax=1.2,\n",
    "           edgecolor=\"white\", linewidth=1)\n",
    "\n",
    "ax.set(aspect=\"equal\",\n",
    "       xlim=(-2, 3.5), ylim=(-2, 3.5),\n",
    "       xlabel=\"$X_1$\", ylabel=\"$X_2$\")\n",
    "\n",
    "\n",
    "plt.savefig(IMG_FOLDER + \"Q2-threshold.png\")\n",
    "if(not no_interact):\n",
    "    plt.show()\n",
    "plt.close()\n",
    "plt.plot(range(len(results[\"loss\"])), results[\"loss\"])\n",
    "plt.savefig(IMG_FOLDER + \"Q2-cost-vs-iterations.png\")\n",
    "if(not no_interact):\n",
    "    plt.show()"
   ]
  },
  {
   "cell_type": "code",
   "execution_count": 95,
   "metadata": {},
   "outputs": [
    {
     "name": "stdout",
     "output_type": "stream",
     "text": [
      "Theta_0: 47.81414622348973\n",
      "Theta_1: 67.26895117169423\n",
      "Theta_2: -30.035073039983903\n"
     ]
    },
    {
     "data": {
      "text/plain": [
       "<Figure size 432x288 with 0 Axes>"
      ]
     },
     "metadata": {},
     "output_type": "display_data"
    },
    {
     "data": {
      "image/png": "[encoded data removed]",
      "text/plain": [
       "<Figure size 576x432 with 2 Axes>"
      ]
     },
     "metadata": {
      "needs_background": "light"
     },
     "output_type": "display_data"
    }
   ],
   "source": [
    "from sklearn.linear_model import LogisticRegression\n",
    "lgr = LogisticRegression(penalty='none', solver='lbfgs', max_iter=10000)\n",
    "lgr.fit(X[:,1:],Y)\n",
    "print(\"Theta_0: {}\\nTheta_1: {}\\nTheta_2: {}\".format(lgr.intercept_[0], lgr.coef_.item(0),lgr.coef_.item(1)))\n",
    "fig = plt.figure()\n",
    "xx, yy = np.mgrid[-2:3.5:.01, -2:3.5:.01]\n",
    "grid = np.c_[xx.ravel(), yy.ravel()]\n",
    "probs = lgr.predict_proba(grid)[:,1].reshape(xx.shape)\n",
    "\n",
    "f, ax = plt.subplots(figsize=(8, 6))\n",
    "contour = ax.contourf(xx, yy, probs, 25, cmap=\"RdBu\",\n",
    "                      vmin=0, vmax=1)\n",
    "ax_c = f.colorbar(contour)\n",
    "ax_c.set_label(\"$P(y = 1)$\")\n",
    "ax_c.set_ticks([0, .25, .5, .75, 1])\n",
    "\n",
    "ax.scatter(X[:,1], X[:,2], c=Y, s=50,\n",
    "           cmap=\"RdBu\", vmin=-.2, vmax=1.2,\n",
    "           edgecolor=\"white\", linewidth=1)\n",
    "\n",
    "ax.set(aspect=\"equal\",\n",
    "       xlim=(-2, 3.5), ylim=(-2, 3.5),\n",
    "       xlabel=\"$X_1$\", ylabel=\"$X_2$\")\n",
    "\n",
    "\n",
    "plt.savefig(IMG_FOLDER + \"Q2-built-in-threshold.png\")\n",
    "if(not no_interact):\n",
    "    plt.show()"
   ]
  },
  {
   "cell_type": "markdown",
   "metadata": {},
   "source": [
    "# Problem 3"
   ]
  },
  {
   "cell_type": "code",
   "execution_count": 96,
   "metadata": {},
   "outputs": [
    {
     "name": "stdout",
     "output_type": "stream",
     "text": [
      "------------------\n",
      "Problem 3\n",
      "------------------\n",
      "\n"
     ]
    },
    {
     "name": "stderr",
     "output_type": "stream",
     "text": [
      "/home/dp834/.local/lib/python3.6/site-packages/ipykernel_launcher.py:20: RuntimeWarning: invalid value encountered in double_scalars\n"
     ]
    }
   ],
   "source": [
    "print(\"------------------\\nProblem 3\\n------------------\\n\")\n",
    "data = []\n",
    "with open(\"spambase(1).data\", 'r') as f:\n",
    "    f.readline()\n",
    "    for line in f.readlines():\n",
    "        data.append(np.array(line.split(\",\"), dtype=\"float32\"))\n",
    "        \n",
    "data = np.array(data)\n",
    "seed(0)\n",
    "shuffle(data)\n",
    "\n",
    "# standardize the data\n",
    "X_mean = np.mean(X_nonstandard, axis=0)\n",
    "X_std  = np.std(X_nonstandard, axis=0, ddof=1)\n",
    "X_nob  = (X_nonstandard - X_mean)/X_std\n",
    "    \n",
    "X = np.insert(X_nob, 0, 1,axis=1)\n",
    "\n",
    "split_location = ceil(data.shape[0]*2/3)\n",
    "training_data = data[0:split_location, :]\n",
    "test_data = data[split_location:]\n",
    "\n",
    "training_x = training_data[:,0:-1]\n",
    "\n",
    "X_mean = np.mean(training_x, axis=0)\n",
    "X_std  = np.std(training_x, axis=0, ddof=1)\n",
    "X_nob  = (training_x - X_mean)/X_std\n",
    "    \n",
    "training_x = np.insert(X_nob, 0, 1,axis=1)\n",
    "\n",
    "training_y = training_data[:, -1]\n",
    "\n",
    "test_x = test_data[:,0:-1]\n",
    "\n",
    "X_mean = np.mean(test_x, axis=0)\n",
    "X_std  = np.std(test_x, axis=0, ddof=1)\n",
    "X_nob  = (test_x - X_mean)/X_std\n",
    "    \n",
    "test_x = np.insert(X_nob, 0, 1,axis=1)\n",
    "test_y = test_data[:, -1]\n",
    "\n",
    "results = logistic_regression(training_x, training_y, iterations=1500, learning_rate=.01)\n",
    "\n",
    "Theta = results[\"theta\"]\n",
    "\n",
    "guess = sigmoid(test_x, Theta)"
   ]
  },
  {
   "cell_type": "code",
   "execution_count": 116,
   "metadata": {},
   "outputs": [
    {
     "name": "stdout",
     "output_type": "stream",
     "text": [
      "Threshold: .5\n",
      "{'precision': 0.6179245283018868, 'recall': 1.0, 'f-measure': 0.7638483965014577, 'accuracy': 0.6829745596868884}\n",
      "Threshold: .9\n",
      "{'precision': 0.7845659163987139, 'recall': 0.9312977099236641, 'f-measure': 0.8516579406631762, 'accuracy': 0.8336594911937377}\n"
     ]
    },
    {
     "data": {
      "image/png": "[encoded data removed]",
      "text/plain": [
       "<Figure size 432x288 with 1 Axes>"
      ]
     },
     "metadata": {
      "needs_background": "light"
     },
     "output_type": "display_data"
    }
   ],
   "source": [
    "stats = get_stats(guess, test_y, threshold=.5)\n",
    "print(\"Threshold: .5\\n{}\".format(stats))\n",
    "thresholds = np.linspace(0,.99,100)\n",
    "precisions = []\n",
    "recalls    = []\n",
    "for t in thresholds:\n",
    "    s = get_stats(guess, test_y, threshold=t)\n",
    "    precisions.append(s[\"precision\"])\n",
    "    recalls.append(s[\"recall\"])\n",
    "    \n",
    "plt.ylim((0,1))\n",
    "plt.xlim((0,1))\n",
    "plt.plot(recalls, precisions)\n",
    "for i in range(0, len(thresholds), 5):\n",
    "    plt.text(recalls[i],precisions[i], \"{:.02f}\".format(thresholds[i]))\n",
    "stats = get_stats(guess, test_y, threshold=.90)\n",
    "print(\"Threshold: .9\\n{}\".format(stats))\n",
    "    \n",
    "plt.savefig(IMG_FOLDER + \"Q3-precision-vs-recall.png\")\n",
    "if(not no_interact):\n",
    "    plt.show()"
   ]
  },
  {
   "cell_type": "markdown",
   "metadata": {},
   "source": [
    "# Problem 4"
   ]
  },
  {
   "cell_type": "code",
   "execution_count": 83,
   "metadata": {},
   "outputs": [
    {
     "name": "stdout",
     "output_type": "stream",
     "text": [
      "------------------\n",
      "Problem 4\n",
      "------------------\n",
      "\n"
     ]
    }
   ],
   "source": [
    "print(\"------------------\\nProblem 4\\n------------------\\n\")\n",
    "data = []\n",
    "with open(\"spambase(1).data\", 'r') as f:\n",
    "    f.readline()\n",
    "    for line in f.readlines():\n",
    "        data.append(np.array(line.split(\",\"), dtype=\"float32\"))\n",
    "        \n",
    "data = np.array(data)\n",
    "seed(0)\n",
    "shuffle(data)\n",
    "\n",
    "# standardize the data\n",
    "X_mean = np.mean(X_nonstandard, axis=0)\n",
    "X_std  = np.std(X_nonstandard, axis=0, ddof=1)\n",
    "X_nob  = (X_nonstandard - X_mean)/X_std\n",
    "    \n",
    "split_location = ceil(data.shape[0]*2/3)\n",
    "training_data = data[0:split_location, :]\n",
    "test_data = data[split_location:]\n",
    "\n",
    "training_x = training_data[:,0:-1]\n",
    "\n",
    "X_mean = np.mean(training_x, axis=0)\n",
    "X_std  = np.std(training_x, axis=0, ddof=1)\n",
    "X_nob  = (training_x - X_mean)/X_std\n",
    "    \n",
    "training_y = training_data[:, -1]\n",
    "\n",
    "test_x = test_data[:,0:-1]\n",
    "\n",
    "X_mean = np.mean(test_x, axis=0)\n",
    "X_std  = np.std(test_x, axis=0, ddof=1)\n",
    "X_nob  = (test_x - X_mean)/X_std\n",
    "    \n",
    "test_y = test_data[:, -1]\n",
    "\n",
    "\n",
    "training_x_true  = training_x[training_y == 1, :]\n",
    "training_x_false = training_x[training_y == 0, :]"
   ]
  },
  {
   "cell_type": "code",
   "execution_count": 84,
   "metadata": {},
   "outputs": [
    {
     "name": "stdout",
     "output_type": "stream",
     "text": [
      "{'precision': 0.6761061946902654, 'recall': 0.9720101781170484, 'f-measure': 0.7974947807933194, 'accuracy': 0.7469015003261579}\n"
     ]
    }
   ],
   "source": [
    "prob_true    = training_x_true.shape[0] / training_x.shape[0]\n",
    "means_true   = []\n",
    "stdevs_true  = []\n",
    "prob_false   = 1 - prob_true\n",
    "means_false  = []\n",
    "stdevs_false = []\n",
    "\n",
    "for i in range(training_x.shape[1]):\n",
    "    means_true.append(np.mean(training_x_true[:,i]))\n",
    "    stdevs_true.append(np.std(training_x_true[:,i], ddof=1))\n",
    "    means_false.append(np.mean(training_x_false[:,i]))\n",
    "    stdevs_false.append(np.std(training_x_false[:,i], ddof=1))\n",
    "    \n",
    "means_true   = np.array(means_true)\n",
    "stdevs_true  = np.array(stdevs_true)\n",
    "means_false  = np.array(means_false)\n",
    "stdevs_false = np.array(stdevs_false)\n",
    "predictions = [] \n",
    "\n",
    "def gaussian(mean, stdev, x):\n",
    "    return 1/(stdev*np.sqrt(2*np.pi))*np.exp(-(x-mean)**2/(2*stdev**2))\n",
    "    \n",
    "with np.errstate(divide='ignore'):\n",
    "    # if stdevs are zero then the feature is always a certain value for a class\n",
    "    # messes with divisions so set so epsilon\n",
    "    stdevs_true[stdevs_true==0] = 2**-23\n",
    "    stdevs_false[stdevs_false==0] = 2**-23\n",
    "    for i in range(test_x.shape[0]):\n",
    "        guess_true  = gaussian(means_true, stdevs_true, test_x[i,:])\n",
    "        guess_true[np.isnan(guess_true)] = 2**-23 \n",
    "        guess_true[guess_true == 0] = 2**-23\n",
    "        guess_true = np.log(prob_true) + np.sum(np.log(guess_true))\n",
    "        \n",
    "        guess_false = gaussian(means_false, stdevs_false, test_x[i,:])\n",
    "        guess_false[np.isnan(guess_false)] = 2**-23 \n",
    "        guess_false[guess_false == 0] = 2**-23 \n",
    "        guess_false = np.log(prob_false) + np.sum(np.log(guess_false))\n",
    "        if(guess_true>guess_false):\n",
    "            predictions.append(1)\n",
    "        else:\n",
    "            predictions.append(0)\n",
    "predictions = np.array(predictions)\n",
    "stats = get_stats(predictions,test_y) \n",
    "print(stats)"
   ]
  },
  {
   "cell_type": "code",
   "execution_count": null,
   "metadata": {},
   "outputs": [],
   "source": []
  }
 ],
 "metadata": {
  "kernelspec": {
   "display_name": "Python 3",
   "language": "python",
   "name": "python3"
  },
  "language_info": {
   "codemirror_mode": {
    "name": "ipython",
    "version": 3
   },
   "file_extension": ".py",
   "mimetype": "text/x-python",
   "name": "python",
   "nbconvert_exporter": "python",
   "pygments_lexer": "ipython3",
   "version": "3.6.9"
  }
 },
 "nbformat": 4,
 "nbformat_minor": 4
}
